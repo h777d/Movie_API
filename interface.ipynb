{
 "cells": [
  {
   "cell_type": "markdown",
   "id": "5a55badb-6cf2-4526-8712-ddb66556d25d",
   "metadata": {},
   "source": [
    "# Case: Cloud Engineer / Developer in Cloud Analytics og MLOps"
   ]
  },
  {
   "cell_type": "code",
   "execution_count": 1,
   "id": "32d74c59-1eba-473e-b0d9-a03b417ae2cd",
   "metadata": {},
   "outputs": [
    {
     "data": {
      "text/plain": [
       "'\\n@author: hosseind\\n'"
      ]
     },
     "execution_count": 1,
     "metadata": {},
     "output_type": "execute_result"
    }
   ],
   "source": [
    "\"\"\"\n",
    "@author: hosseind\n",
    "\"\"\""
   ]
  },
  {
   "cell_type": "markdown",
   "id": "fc1501c5-c0ae-4e3b-b7e6-ecc9b2c2d91f",
   "metadata": {},
   "source": [
    "Developing a solution in Python for a requested interview case which exposes an API with given specifications."
   ]
  },
  {
   "cell_type": "markdown",
   "id": "81669f21-9d25-4fda-9a49-b77b7e58f6a5",
   "metadata": {},
   "source": [
    "### Loading reqired libraries"
   ]
  },
  {
   "cell_type": "code",
   "execution_count": 2,
   "id": "8d68a26d-b611-4fc7-963a-ec9227c11d94",
   "metadata": {},
   "outputs": [],
   "source": [
    "from fastapi import FastAPI, Query\n",
    "import sqlite3\n",
    "import uvicorn\n",
    "import json\n",
    "import os"
   ]
  },
  {
   "cell_type": "markdown",
   "id": "dc01ae94-657d-4f15-b121-2d639888d1f2",
   "metadata": {},
   "source": [
    "### Define the path to the IMDb SQLite database file"
   ]
  },
  {
   "cell_type": "markdown",
   "id": "007bc7f9-690f-4ab6-a4a8-60549aaa94c7",
   "metadata": {},
   "source": [
    "Connect to the sqlite database using the absolute path to avoid bugs:"
   ]
  },
  {
   "cell_type": "code",
   "execution_count": 3,
   "id": "9ad00f29-f791-4ad2-a6ab-d05c201d5f6d",
   "metadata": {},
   "outputs": [],
   "source": [
    "DATABASE_PATH = os.path.abspath(os.path.join(os.path.dirname('/Users/hosseind/Downloads/'),'movie.sqlite'))"
   ]
  },
  {
   "cell_type": "markdown",
   "id": "6654a86c-ad1c-4eaa-963a-f330e0d59da2",
   "metadata": {},
   "source": [
    "### Run SQL-requests against the database to get tables info"
   ]
  },
  {
   "cell_type": "code",
   "execution_count": 4,
   "id": "30095eea-0805-4df8-9e00-117d6cd50499",
   "metadata": {},
   "outputs": [
    {
     "name": "stdout",
     "output_type": "stream",
     "text": [
      "Total tables in the database: 3\n",
      "movies\n",
      "['id', 'original_title', 'budget', 'popularity', 'release_date', 'revenue', 'title', 'vote_average', 'vote_count', 'overview', 'tagline', 'uid', 'director_id']\n",
      "sqlite_sequence\n",
      "['name', 'seq']\n",
      "directors\n",
      "['name', 'id', 'gender', 'uid', 'department']\n"
     ]
    }
   ],
   "source": [
    "conn = sqlite3.connect(DATABASE_PATH)\n",
    "cursor = conn.cursor()\n",
    "cursor.execute(\"SELECT count(*) FROM sqlite_master WHERE type='table';\")\n",
    "table_count = cursor.fetchone()[0]\n",
    "cursor.execute(\"SELECT name FROM sqlite_master WHERE type='table';\")\n",
    "tables = cursor.fetchall()\n",
    "\n",
    "print(f'Total tables in the database: {table_count}')\n",
    "for table in tables:\n",
    "    cursor.execute(f\"PRAGMA table_info({table[0]})\")\n",
    "    column_info = cursor.fetchall()\n",
    "    column_names = [info[1] for info in column_info]\n",
    "    print(table[0])\n",
    "    print(column_names)\n",
    "    \n",
    "#df = pd.read_sql_query(f\"SELECT * from {table[0]}\", conn)\n",
    "#print(df.head())\n",
    "conn.close()"
   ]
  },
  {
   "cell_type": "markdown",
   "id": "7d1be2fc-314e-40da-988d-0f24e2075683",
   "metadata": {},
   "source": [
    "## Create the interface to run SQL-requests against the database"
   ]
  },
  {
   "cell_type": "code",
   "execution_count": 23,
   "id": "d37365d1-302e-4d19-999f-94ad3191ce26",
   "metadata": {},
   "outputs": [],
   "source": [
    "# define a function to execute a given SQL query\n",
    "# Create a new cursor object for each request\n",
    "def execute_sql_query(query):\n",
    "    try:\n",
    "        conn = sqlite3.connect(DATABASE_PATH)\n",
    "        cursor = conn.cursor()\n",
    "        cursor.execute(query)\n",
    "        result = cursor.fetchall()\n",
    "        conn.close()\n",
    "        return result\n",
    "    except sqlite3.Error as e:\n",
    "        print(f\"SQLite error: {e}\")\n",
    "        return None\n",
    "    \n",
    "    \n",
    "# SQL requests (queries)\n",
    "\n",
    "#SQL-request that returns all directors\n",
    "def get_all_directors():\n",
    "    query = \"SELECT DISTINCT name FROM directors GROUP BY id\"\n",
    "    return execute_sql_query(query)\n",
    "\n",
    "#SQL-request that returns all films names\n",
    "def get_all_films():\n",
    "    query = \"SELECT original_title FROM movies\"\n",
    "    return execute_sql_query(query)\n",
    "\n",
    "# SQL-request that returns the five directors whose films have the highest average (vote) range\n",
    "def get_top_directors_with_highest_avg_rating(limit=5):\n",
    "    query = f\"\"\"\n",
    "    SELECT DISTINCT name, vote_average FROM directors AS t1\n",
    "    JOIN movies AS t2 ON t1.id = t2.director_id\n",
    "    ORDER BY vote_average DESC\n",
    "    LIMIT {limit}\n",
    "    \"\"\"\n",
    "    return execute_sql_query(query)"
   ]
  },
  {
   "cell_type": "markdown",
   "id": "85b787b9-e7aa-40d4-aba0-71ed5f9f68bc",
   "metadata": {},
   "source": [
    "### Run SQL-requests"
   ]
  },
  {
   "cell_type": "code",
   "execution_count": 24,
   "id": "c8e00b11-d727-42e3-a17e-5df76f9b4912",
   "metadata": {},
   "outputs": [
    {
     "name": "stdout",
     "output_type": "stream",
     "text": [
      "All Directors:\n",
      "James Cameron\n",
      "Gore Verbinski\n",
      "Sam Mendes\n",
      "Christopher Nolan\n",
      "Andrew Stanton\n",
      "Sam Raimi\n",
      "All Films:\n",
      "Avatar\n",
      "Pirates of the Caribbean: At World's End\n",
      "Spectre\n",
      "The Dark Knight Rises\n",
      "John Carter\n",
      "Spider-Man 3\n",
      "Top Directors with Highest Average Rating:\n",
      "Gary Sinyor - Average Rating: 10.00\n",
      "Tim McCanlies - Average Rating: 10.00\n",
      "Rohit Jugraj - Average Rating: 9.50\n",
      "Lance Hool - Average Rating: 9.30\n",
      "Frank Darabont - Average Rating: 8.50\n"
     ]
    }
   ],
   "source": [
    "print(\"All Directors:\")\n",
    "directors = get_all_directors()\n",
    "i , N = 0, 5\n",
    "for director in directors:\n",
    "    print(director[0])\n",
    "    if i == N: i = 0; break \n",
    "    else: i += 1\n",
    "\n",
    "print(\"All Films:\")\n",
    "films = get_all_films()\n",
    "for film in films:\n",
    "    print(film[0])\n",
    "    if i == N: break \n",
    "    else: i += 1\n",
    "        \n",
    "print(\"Top Directors with Highest Average Rating:\")\n",
    "top_directors = get_top_directors_with_highest_avg_rating(5)\n",
    "for director in top_directors:\n",
    "    print(f\"{director[0]} - Average Rating: {director[1]:.2f}\")"
   ]
  },
  {
   "cell_type": "code",
   "execution_count": null,
   "id": "e489a34e-ffeb-49c3-8f81-cd94ad36df9e",
   "metadata": {},
   "outputs": [],
   "source": []
  },
  {
   "cell_type": "code",
   "execution_count": null,
   "id": "72ddf4e8-bcc4-49b4-9e09-3b3567c70d35",
   "metadata": {},
   "outputs": [],
   "source": []
  }
 ],
 "metadata": {
  "kernelspec": {
   "display_name": "Python 3 (ipykernel)",
   "language": "python",
   "name": "python3"
  },
  "language_info": {
   "codemirror_mode": {
    "name": "ipython",
    "version": 3
   },
   "file_extension": ".py",
   "mimetype": "text/x-python",
   "name": "python",
   "nbconvert_exporter": "python",
   "pygments_lexer": "ipython3",
   "version": "3.9.13"
  }
 },
 "nbformat": 4,
 "nbformat_minor": 5
}
